{
  "nbformat": 4,
  "nbformat_minor": 0,
  "metadata": {
    "colab": {
      "provenance": []
    },
    "kernelspec": {
      "name": "python3",
      "display_name": "Python 3"
    },
    "language_info": {
      "name": "python"
    }
  },
  "cells": [
    {
      "cell_type": "code",
      "execution_count": 3,
      "metadata": {
        "colab": {
          "base_uri": "https://localhost:8080/"
        },
        "id": "HvVPG3l6Oqp-",
        "outputId": "f117a636-db1a-4669-bf02-c5da5958a0ae"
      },
      "outputs": [
        {
          "output_type": "stream",
          "name": "stdout",
          "text": [
            "Welcome to the Number Guessing Game!\n",
            "I've picked a number between 1 and 100. Try to guess it!\n",
            "Enter your guess: 73\n",
            "Too high!\n",
            "Enter your guess: 55\n",
            "Too high!\n",
            "Enter your guess: 33\n",
            "Too high!\n",
            "Enter your guess: 2\n",
            "Too low!\n",
            "Enter your guess: 22\n",
            "Too high!\n",
            "Enter your guess: 12\n",
            "Too low!\n",
            "Enter your guess: 20\n",
            "Congratulations! You've guessed the number 20.\n",
            "It took you 7 attempts.\n"
          ]
        }
      ],
      "source": [
        "import random\n",
        "\n",
        "def guess_number_game():\n",
        "    # Generate a random number between 1 and 100\n",
        "    random_number = random.randint(1, 100)\n",
        "    attempts = 0\n",
        "    guessed = False\n",
        "\n",
        "    print(\"Welcome to the Number Guessing Game!\")\n",
        "    print(\"I've picked a number between 1 and 100. Try to guess it!\")\n",
        "\n",
        "    # Loop until the user guesses the correct number\n",
        "    while not guessed:\n",
        "        try:\n",
        "            # Ask the user for their guess\n",
        "            guess = int(input(\"Enter your guess: \"))\n",
        "            attempts += 1\n",
        "\n",
        "            # Compare the guess with the random number\n",
        "            if guess < random_number:\n",
        "                print(\"Too low!\")\n",
        "            elif guess > random_number:\n",
        "                print(\"Too high!\")\n",
        "            elif guess == random_number:\n",
        "                print(f\"Congratulations! You've guessed the number {random_number}.\")\n",
        "                print(f\"It took you {attempts} attempts.\")\n",
        "                guessed = True\n",
        "        except ValueError:\n",
        "            print(\"Invalid input! Please enter a valid number.\")\n",
        "\n",
        "# Run the game\n",
        "guess_number_game()\n"
      ]
    }
  ]
}